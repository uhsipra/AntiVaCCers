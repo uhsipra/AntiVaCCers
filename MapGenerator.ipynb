{
  "nbformat": 4,
  "nbformat_minor": 0,
  "metadata": {
    "colab": {
      "name": "MapGenerator.ipynb",
      "provenance": [],
      "authorship_tag": "ABX9TyMbIIUfqdNK05CrnTVDptLf",
      "include_colab_link": true
    },
    "kernelspec": {
      "name": "python3",
      "display_name": "Python 3"
    },
    "language_info": {
      "name": "python"
    }
  },
  "cells": [
    {
      "cell_type": "markdown",
      "metadata": {
        "id": "view-in-github",
        "colab_type": "text"
      },
      "source": [
        "<a href=\"https://colab.research.google.com/github/uhsipra/AntiVaCCers/blob/main/MapGenerator.ipynb\" target=\"_parent\"><img src=\"https://colab.research.google.com/assets/colab-badge.svg\" alt=\"Open In Colab\"/></a>"
      ]
    },
    {
      "cell_type": "code",
      "execution_count": null,
      "metadata": {
        "id": "WBoXCj5k8mVD"
      },
      "outputs": [],
      "source": [
        "import pandas as pd\n",
        "import folium"
      ]
    },
    {
      "cell_type": "code",
      "source": [
        "my_map = folium.Map(\n",
        "    location = [62.7118599,-99.7655873], \n",
        "    zoom_start = 3.9\n",
        ")\n",
        "my_map"
      ],
      "metadata": {
        "id": "SAh0w8v68xVt"
      },
      "execution_count": null,
      "outputs": []
    },
    {
      "cell_type": "code",
      "source": [
        "Toronto = [43.7184038,-79.5181405]\n",
        "Montreal = [45.5581968,-73.8703848]\n",
        "Vancouver = [49.2578263,-123.1939434]\n",
        "Calgary =[51.0748885,-114.4806316]\n",
        "Edmonton =[53.5559165,-113.6328039]\n",
        "Ottawa = [45.2502975,-76.0804345]"
      ],
      "metadata": {
        "id": "PRxmWvJM871X"
      },
      "execution_count": 1,
      "outputs": []
    }
  ]
}